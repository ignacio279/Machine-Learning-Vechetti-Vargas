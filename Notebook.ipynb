{
 "cells": [
  {
   "cell_type": "code",
   "execution_count": 1,
   "id": "70189546",
   "metadata": {},
   "outputs": [],
   "source": [
    "%load_ext autoreload\n",
    "%autoreload 2"
   ]
  },
  {
   "cell_type": "markdown",
   "id": "278cd27b",
   "metadata": {},
   "source": [
    "# Librerías"
   ]
  },
  {
   "cell_type": "code",
   "execution_count": 2,
   "id": "47c51e59",
   "metadata": {},
   "outputs": [],
   "source": [
    "import numpy as np\n",
    "import pandas as pd\n",
    "import matplotlib.pyplot as plt\n",
    "from sklearn.preprocessing import OrdinalEncoder\n",
    "from sklearn.impute import KNNImputer"
   ]
  },
  {
   "cell_type": "markdown",
   "id": "7c8543a0",
   "metadata": {},
   "source": [
    "# Análisis de datos"
   ]
  },
  {
   "cell_type": "code",
   "execution_count": 3,
   "id": "43139e00",
   "metadata": {},
   "outputs": [],
   "source": [
    "df = pd.read_csv('Data/pf_suvs_i302_1s2025.csv')\n",
    "df = df.drop(df.columns[0], axis=1)\n",
    "mask = df['Moneda'] == '$'\n",
    "df.loc[mask, 'Precio'] = df.loc[mask, 'Precio'] / 1185\n",
    "df.drop(columns=['Moneda'], inplace=True)\n",
    "df.drop(columns = ['Tipo de carrocería'],inplace=True)\n",
    "idx = df[df['Año'] == 436694.0].index\n",
    "df.drop(idx, inplace=True)\n"
   ]
  },
  {
   "cell_type": "code",
   "execution_count": 4,
   "id": "e28fb02c",
   "metadata": {},
   "outputs": [
    {
     "name": "stdout",
     "output_type": "stream",
     "text": [
      "<class 'pandas.core.frame.DataFrame'>\n",
      "Index: 18253 entries, 0 to 18253\n",
      "Data columns (total 15 columns):\n",
      " #   Column                   Non-Null Count  Dtype  \n",
      "---  ------                   --------------  -----  \n",
      " 0   Marca                    18253 non-null  object \n",
      " 1   Modelo                   18253 non-null  object \n",
      " 2   Año                      18253 non-null  float64\n",
      " 3   Versión                  18253 non-null  object \n",
      " 4   Color                    17864 non-null  object \n",
      " 5   Tipo de combustible      18253 non-null  object \n",
      " 6   Puertas                  18253 non-null  float64\n",
      " 7   Transmisión              18238 non-null  object \n",
      " 8   Motor                    18215 non-null  object \n",
      " 9   Con cámara de retroceso  4691 non-null   object \n",
      " 10  Kilómetros               18253 non-null  object \n",
      " 11  Título                   18253 non-null  object \n",
      " 12  Precio                   18253 non-null  float64\n",
      " 13  Descripción              18253 non-null  object \n",
      " 14  Tipo de vendedor         18253 non-null  object \n",
      "dtypes: float64(3), object(12)\n",
      "memory usage: 2.2+ MB\n"
     ]
    },
    {
     "data": {
      "text/html": [
       "<div>\n",
       "<style scoped>\n",
       "    .dataframe tbody tr th:only-of-type {\n",
       "        vertical-align: middle;\n",
       "    }\n",
       "\n",
       "    .dataframe tbody tr th {\n",
       "        vertical-align: top;\n",
       "    }\n",
       "\n",
       "    .dataframe thead th {\n",
       "        text-align: right;\n",
       "    }\n",
       "</style>\n",
       "<table border=\"1\" class=\"dataframe\">\n",
       "  <thead>\n",
       "    <tr style=\"text-align: right;\">\n",
       "      <th></th>\n",
       "      <th>Marca</th>\n",
       "      <th>Modelo</th>\n",
       "      <th>Año</th>\n",
       "      <th>Versión</th>\n",
       "      <th>Color</th>\n",
       "      <th>Tipo de combustible</th>\n",
       "      <th>Puertas</th>\n",
       "      <th>Transmisión</th>\n",
       "      <th>Motor</th>\n",
       "      <th>Con cámara de retroceso</th>\n",
       "      <th>Kilómetros</th>\n",
       "      <th>Título</th>\n",
       "      <th>Precio</th>\n",
       "      <th>Descripción</th>\n",
       "      <th>Tipo de vendedor</th>\n",
       "    </tr>\n",
       "  </thead>\n",
       "  <tbody>\n",
       "    <tr>\n",
       "      <th>count</th>\n",
       "      <td>18253</td>\n",
       "      <td>18253</td>\n",
       "      <td>18253.000000</td>\n",
       "      <td>18253</td>\n",
       "      <td>17864</td>\n",
       "      <td>18253</td>\n",
       "      <td>18253.000000</td>\n",
       "      <td>18238</td>\n",
       "      <td>18215</td>\n",
       "      <td>4691</td>\n",
       "      <td>18253</td>\n",
       "      <td>18253</td>\n",
       "      <td>18253.000000</td>\n",
       "      <td>18253</td>\n",
       "      <td>18253</td>\n",
       "    </tr>\n",
       "    <tr>\n",
       "      <th>unique</th>\n",
       "      <td>47</td>\n",
       "      <td>137</td>\n",
       "      <td>NaN</td>\n",
       "      <td>2072</td>\n",
       "      <td>70</td>\n",
       "      <td>8</td>\n",
       "      <td>NaN</td>\n",
       "      <td>4</td>\n",
       "      <td>271</td>\n",
       "      <td>2</td>\n",
       "      <td>2175</td>\n",
       "      <td>2220</td>\n",
       "      <td>NaN</td>\n",
       "      <td>12141</td>\n",
       "      <td>3</td>\n",
       "    </tr>\n",
       "    <tr>\n",
       "      <th>top</th>\n",
       "      <td>Ford</td>\n",
       "      <td>Ecosport</td>\n",
       "      <td>NaN</td>\n",
       "      <td>1.6 Exclusive Cvt</td>\n",
       "      <td>Gris</td>\n",
       "      <td>Nafta</td>\n",
       "      <td>NaN</td>\n",
       "      <td>Automática</td>\n",
       "      <td>1.6</td>\n",
       "      <td>Sí</td>\n",
       "      <td>0.0</td>\n",
       "      <td>Nissan Kicks 1.6 Exclusive Cvt</td>\n",
       "      <td>NaN</td>\n",
       "      <td>El vendedor no incluyó una descripción del pro...</td>\n",
       "      <td>concesionaria</td>\n",
       "    </tr>\n",
       "    <tr>\n",
       "      <th>freq</th>\n",
       "      <td>2161</td>\n",
       "      <td>1569</td>\n",
       "      <td>NaN</td>\n",
       "      <td>320</td>\n",
       "      <td>5468</td>\n",
       "      <td>16066</td>\n",
       "      <td>NaN</td>\n",
       "      <td>12281</td>\n",
       "      <td>4132</td>\n",
       "      <td>3731</td>\n",
       "      <td>4237</td>\n",
       "      <td>320</td>\n",
       "      <td>NaN</td>\n",
       "      <td>2260</td>\n",
       "      <td>8509</td>\n",
       "    </tr>\n",
       "    <tr>\n",
       "      <th>mean</th>\n",
       "      <td>NaN</td>\n",
       "      <td>NaN</td>\n",
       "      <td>2018.983619</td>\n",
       "      <td>NaN</td>\n",
       "      <td>NaN</td>\n",
       "      <td>NaN</td>\n",
       "      <td>18.168027</td>\n",
       "      <td>NaN</td>\n",
       "      <td>NaN</td>\n",
       "      <td>NaN</td>\n",
       "      <td>NaN</td>\n",
       "      <td>NaN</td>\n",
       "      <td>27598.044551</td>\n",
       "      <td>NaN</td>\n",
       "      <td>NaN</td>\n",
       "    </tr>\n",
       "    <tr>\n",
       "      <th>std</th>\n",
       "      <td>NaN</td>\n",
       "      <td>NaN</td>\n",
       "      <td>5.514331</td>\n",
       "      <td>NaN</td>\n",
       "      <td>NaN</td>\n",
       "      <td>NaN</td>\n",
       "      <td>891.790545</td>\n",
       "      <td>NaN</td>\n",
       "      <td>NaN</td>\n",
       "      <td>NaN</td>\n",
       "      <td>NaN</td>\n",
       "      <td>NaN</td>\n",
       "      <td>20297.864206</td>\n",
       "      <td>NaN</td>\n",
       "      <td>NaN</td>\n",
       "    </tr>\n",
       "    <tr>\n",
       "      <th>min</th>\n",
       "      <td>NaN</td>\n",
       "      <td>NaN</td>\n",
       "      <td>1981.000000</td>\n",
       "      <td>NaN</td>\n",
       "      <td>NaN</td>\n",
       "      <td>NaN</td>\n",
       "      <td>2.000000</td>\n",
       "      <td>NaN</td>\n",
       "      <td>NaN</td>\n",
       "      <td>NaN</td>\n",
       "      <td>NaN</td>\n",
       "      <td>NaN</td>\n",
       "      <td>100.421941</td>\n",
       "      <td>NaN</td>\n",
       "      <td>NaN</td>\n",
       "    </tr>\n",
       "    <tr>\n",
       "      <th>25%</th>\n",
       "      <td>NaN</td>\n",
       "      <td>NaN</td>\n",
       "      <td>2016.000000</td>\n",
       "      <td>NaN</td>\n",
       "      <td>NaN</td>\n",
       "      <td>NaN</td>\n",
       "      <td>5.000000</td>\n",
       "      <td>NaN</td>\n",
       "      <td>NaN</td>\n",
       "      <td>NaN</td>\n",
       "      <td>NaN</td>\n",
       "      <td>NaN</td>\n",
       "      <td>16033.755274</td>\n",
       "      <td>NaN</td>\n",
       "      <td>NaN</td>\n",
       "    </tr>\n",
       "    <tr>\n",
       "      <th>50%</th>\n",
       "      <td>NaN</td>\n",
       "      <td>NaN</td>\n",
       "      <td>2019.000000</td>\n",
       "      <td>NaN</td>\n",
       "      <td>NaN</td>\n",
       "      <td>NaN</td>\n",
       "      <td>5.000000</td>\n",
       "      <td>NaN</td>\n",
       "      <td>NaN</td>\n",
       "      <td>NaN</td>\n",
       "      <td>NaN</td>\n",
       "      <td>NaN</td>\n",
       "      <td>23500.000000</td>\n",
       "      <td>NaN</td>\n",
       "      <td>NaN</td>\n",
       "    </tr>\n",
       "    <tr>\n",
       "      <th>75%</th>\n",
       "      <td>NaN</td>\n",
       "      <td>NaN</td>\n",
       "      <td>2024.000000</td>\n",
       "      <td>NaN</td>\n",
       "      <td>NaN</td>\n",
       "      <td>NaN</td>\n",
       "      <td>5.000000</td>\n",
       "      <td>NaN</td>\n",
       "      <td>NaN</td>\n",
       "      <td>NaN</td>\n",
       "      <td>NaN</td>\n",
       "      <td>NaN</td>\n",
       "      <td>32489.450633</td>\n",
       "      <td>NaN</td>\n",
       "      <td>NaN</td>\n",
       "    </tr>\n",
       "    <tr>\n",
       "      <th>max</th>\n",
       "      <td>NaN</td>\n",
       "      <td>NaN</td>\n",
       "      <td>2025.000000</td>\n",
       "      <td>NaN</td>\n",
       "      <td>NaN</td>\n",
       "      <td>NaN</td>\n",
       "      <td>60252.000000</td>\n",
       "      <td>NaN</td>\n",
       "      <td>NaN</td>\n",
       "      <td>NaN</td>\n",
       "      <td>NaN</td>\n",
       "      <td>NaN</td>\n",
       "      <td>610000.000000</td>\n",
       "      <td>NaN</td>\n",
       "      <td>NaN</td>\n",
       "    </tr>\n",
       "  </tbody>\n",
       "</table>\n",
       "</div>"
      ],
      "text/plain": [
       "        Marca    Modelo           Año            Versión  Color  \\\n",
       "count   18253     18253  18253.000000              18253  17864   \n",
       "unique     47       137           NaN               2072     70   \n",
       "top      Ford  Ecosport           NaN  1.6 Exclusive Cvt   Gris   \n",
       "freq     2161      1569           NaN                320   5468   \n",
       "mean      NaN       NaN   2018.983619                NaN    NaN   \n",
       "std       NaN       NaN      5.514331                NaN    NaN   \n",
       "min       NaN       NaN   1981.000000                NaN    NaN   \n",
       "25%       NaN       NaN   2016.000000                NaN    NaN   \n",
       "50%       NaN       NaN   2019.000000                NaN    NaN   \n",
       "75%       NaN       NaN   2024.000000                NaN    NaN   \n",
       "max       NaN       NaN   2025.000000                NaN    NaN   \n",
       "\n",
       "       Tipo de combustible       Puertas Transmisión  Motor  \\\n",
       "count                18253  18253.000000       18238  18215   \n",
       "unique                   8           NaN           4    271   \n",
       "top                  Nafta           NaN  Automática    1.6   \n",
       "freq                 16066           NaN       12281   4132   \n",
       "mean                   NaN     18.168027         NaN    NaN   \n",
       "std                    NaN    891.790545         NaN    NaN   \n",
       "min                    NaN      2.000000         NaN    NaN   \n",
       "25%                    NaN      5.000000         NaN    NaN   \n",
       "50%                    NaN      5.000000         NaN    NaN   \n",
       "75%                    NaN      5.000000         NaN    NaN   \n",
       "max                    NaN  60252.000000         NaN    NaN   \n",
       "\n",
       "       Con cámara de retroceso Kilómetros                          Título  \\\n",
       "count                     4691      18253                           18253   \n",
       "unique                       2       2175                            2220   \n",
       "top                         Sí        0.0  Nissan Kicks 1.6 Exclusive Cvt   \n",
       "freq                      3731       4237                             320   \n",
       "mean                       NaN        NaN                             NaN   \n",
       "std                        NaN        NaN                             NaN   \n",
       "min                        NaN        NaN                             NaN   \n",
       "25%                        NaN        NaN                             NaN   \n",
       "50%                        NaN        NaN                             NaN   \n",
       "75%                        NaN        NaN                             NaN   \n",
       "max                        NaN        NaN                             NaN   \n",
       "\n",
       "               Precio                                        Descripción  \\\n",
       "count    18253.000000                                              18253   \n",
       "unique            NaN                                              12141   \n",
       "top               NaN  El vendedor no incluyó una descripción del pro...   \n",
       "freq              NaN                                               2260   \n",
       "mean     27598.044551                                                NaN   \n",
       "std      20297.864206                                                NaN   \n",
       "min        100.421941                                                NaN   \n",
       "25%      16033.755274                                                NaN   \n",
       "50%      23500.000000                                                NaN   \n",
       "75%      32489.450633                                                NaN   \n",
       "max     610000.000000                                                NaN   \n",
       "\n",
       "       Tipo de vendedor  \n",
       "count             18253  \n",
       "unique                3  \n",
       "top       concesionaria  \n",
       "freq               8509  \n",
       "mean                NaN  \n",
       "std                 NaN  \n",
       "min                 NaN  \n",
       "25%                 NaN  \n",
       "50%                 NaN  \n",
       "75%                 NaN  \n",
       "max                 NaN  "
      ]
     },
     "execution_count": 4,
     "metadata": {},
     "output_type": "execute_result"
    }
   ],
   "source": [
    "df.info()    \n",
    "df.describe(include='all')  \n"
   ]
  },
  {
   "cell_type": "code",
   "execution_count": 5,
   "id": "110387d3",
   "metadata": {},
   "outputs": [
    {
     "data": {
      "text/plain": [
       "Marca                          0\n",
       "Modelo                         0\n",
       "Año                            0\n",
       "Versión                        0\n",
       "Color                        389\n",
       "Tipo de combustible            0\n",
       "Puertas                        0\n",
       "Transmisión                   15\n",
       "Motor                         38\n",
       "Con cámara de retroceso    13562\n",
       "Kilómetros                     0\n",
       "Título                         0\n",
       "Precio                         0\n",
       "Descripción                    0\n",
       "Tipo de vendedor               0\n",
       "dtype: int64"
      ]
     },
     "execution_count": 5,
     "metadata": {},
     "output_type": "execute_result"
    }
   ],
   "source": [
    "df.isnull().sum()     \n"
   ]
  },
  {
   "cell_type": "code",
   "execution_count": 6,
   "id": "504a1d0d",
   "metadata": {},
   "outputs": [],
   "source": [
    "df['Puertas'] = df['Puertas'].replace(60252.0, np.nan)"
   ]
  },
  {
   "cell_type": "markdown",
   "id": "c51faddb",
   "metadata": {},
   "source": [
    "# distribución de años"
   ]
  },
  {
   "cell_type": "code",
   "execution_count": 7,
   "id": "26ad6b17",
   "metadata": {},
   "outputs": [
    {
     "data": {
      "image/png": "[encoded data removed]",
      "text/plain": [
       "<Figure size 1000x600 with 1 Axes>"
      ]
     },
     "metadata": {},
     "output_type": "display_data"
    }
   ],
   "source": [
    "plt.figure(figsize=(10, 6))\n",
    "plt.hist(df[\"Año\"], bins=44, edgecolor='black')\n",
    "plt.title(f'Distribución de la columna \"{\"Año\"}\"')\n",
    "plt.xlabel(\"Año\")\n",
    "plt.ylabel('Frecuencia')\n",
    "plt.grid(True)\n",
    "plt.show()"
   ]
  },
  {
   "cell_type": "markdown",
   "id": "82cae2a8",
   "metadata": {},
   "source": [
    "Hay pocas muestras de autos viejos, capaz estaria bueno nivelarlas con alguno de los metodos que habiamos dado"
   ]
  },
  {
   "cell_type": "markdown",
   "id": "af59638a",
   "metadata": {},
   "source": [
    "# distribución puertas"
   ]
  },
  {
   "cell_type": "code",
   "execution_count": 8,
   "id": "8b93bf71",
   "metadata": {},
   "outputs": [
    {
     "data": {
      "image/png": "[encoded data removed]",
      "text/plain": [
       "<Figure size 1000x600 with 1 Axes>"
      ]
     },
     "metadata": {},
     "output_type": "display_data"
    }
   ],
   "source": [
    "plt.figure(figsize=(10, 6))\n",
    "plt.hist(df[\"Puertas\"], bins=10, edgecolor='black')\n",
    "plt.title(f'Distribución de la columna \"{\"Puertas\"}\"')\n",
    "plt.xlabel(\"Puertas\")\n",
    "plt.ylabel('Frecuencia')\n",
    "plt.grid(True)\n",
    "plt.show()"
   ]
  },
  {
   "cell_type": "markdown",
   "id": "2f95adf7",
   "metadata": {},
   "source": [
    "Creo que no existen vehiculos de 2, 4, 6 o 7 puertas, habria que chequear eso. "
   ]
  },
  {
   "cell_type": "markdown",
   "id": "82608441",
   "metadata": {},
   "source": [
    "# distribucion precio"
   ]
  },
  {
   "cell_type": "code",
   "execution_count": 9,
   "id": "3907d76d",
   "metadata": {},
   "outputs": [
    {
     "data": {
      "image/png": "[encoded data removed]",
      "text/plain": [
       "<Figure size 1000x600 with 1 Axes>"
      ]
     },
     "metadata": {},
     "output_type": "display_data"
    }
   ],
   "source": [
    "plt.figure(figsize=(10, 6))\n",
    "plt.hist(df[\"Precio\"], bins=100, edgecolor='black')\n",
    "plt.title(f'Distribución de la columna \"{\"Precio\"}\"')\n",
    "plt.xlabel(\"Precio\")\n",
    "plt.ylabel('Frecuencia')\n",
    "plt.grid(True)\n",
    "plt.show()"
   ]
  },
  {
   "cell_type": "code",
   "execution_count": 10,
   "id": "382b4685",
   "metadata": {},
   "outputs": [
    {
     "data": {
      "text/plain": [
       "count     18253.000000\n",
       "mean      27598.044551\n",
       "std       20297.864206\n",
       "min         100.421941\n",
       "25%       16033.755274\n",
       "50%       23500.000000\n",
       "75%       32489.450633\n",
       "max      610000.000000\n",
       "Name: Precio, dtype: float64"
      ]
     },
     "execution_count": 10,
     "metadata": {},
     "output_type": "execute_result"
    }
   ],
   "source": [
    "df[\"Precio\"].describe()  \n"
   ]
  },
  {
   "cell_type": "code",
   "execution_count": 11,
   "id": "c778989a",
   "metadata": {},
   "outputs": [
    {
     "data": {
      "image/png": "[encoded data removed]",
      "text/plain": [
       "<Figure size 1000x600 with 1 Axes>"
      ]
     },
     "metadata": {},
     "output_type": "display_data"
    },
    {
     "name": "stdout",
     "output_type": "stream",
     "text": [
      "Número de outliers: 187\n"
     ]
    }
   ],
   "source": [
    "df[\"log_Precio\"] = np.log(df[\"Precio\"])\n",
    "plt.figure(figsize=(10, 6))\n",
    "plt.hist(df[\"log_Precio\"], bins=100, edgecolor='black')\n",
    "plt.title(f'Distribución de la columna \"{\"log_Precio\"}\"')\n",
    "plt.xlabel(\"log_Precio\")\n",
    "plt.ylabel('Frecuencia')\n",
    "plt.grid(True)\n",
    "plt.show()\n",
    "\n",
    "mu = df[\"log_Precio\"].mean()\n",
    "sigma = df[\"log_Precio\"].std()\n",
    "\n",
    "# Outliers a más de 3 sigmas de la media\n",
    "outliers = df[np.abs(df[\"log_Precio\"] - mu) > 3 * sigma]\n",
    "print(f\"Número de outliers: {len(outliers)}\")"
   ]
  },
  {
   "cell_type": "code",
   "execution_count": 12,
   "id": "177b17f4",
   "metadata": {},
   "outputs": [],
   "source": [
    "df= df[np.abs(df[\"log_Precio\"] - mu) <= 3 * sigma].copy()\n",
    "df[\"Precio\"] = np.exp(df[\"log_Precio\"])\n"
   ]
  },
  {
   "cell_type": "markdown",
   "id": "e98bc3d0",
   "metadata": {},
   "source": [
    "# codificacion"
   ]
  },
  {
   "cell_type": "code",
   "execution_count": 13,
   "id": "00e841a9",
   "metadata": {},
   "outputs": [
    {
     "name": "stdout",
     "output_type": "stream",
     "text": [
      "Puertas\n",
      "5    17570\n",
      "4      387\n",
      "3       94\n",
      "2       10\n",
      "6        3\n",
      "7        2\n",
      "Name: count, dtype: int64\n",
      "Con cámara de retroceso\n",
      "Sí    13580\n",
      "No     4486\n",
      "Name: count, dtype: int64\n",
      "Transmisión\n",
      "Automática               12127\n",
      "Manual                    5823\n",
      "Automática secuencial      115\n",
      "Semiautomática               1\n",
      "Name: count, dtype: int64\n",
      "Kilómetros\n",
      "0.0          4460\n",
      "10000.0       217\n",
      "1200000.0     194\n",
      "900000.0      194\n",
      "1000000.0     176\n",
      "             ... \n",
      "962020.0        1\n",
      "808000.0        1\n",
      "3710000.0       1\n",
      "918000.0        1\n",
      "639000.0        1\n",
      "Name: count, Length: 2140, dtype: int64\n"
     ]
    }
   ],
   "source": [
    "mappings = {\n",
    "    'Con cámara de retroceso': {'No': 0, 'Sí': 1},\n",
    "    'Transmisión': {\n",
    "        'Automática': 0,\n",
    "        'Manual': 1,\n",
    "        'Automática secuencial': 2,\n",
    "        'Semiautomática': 3\n",
    "    }\n",
    "}\n",
    "\n",
    "for col, mapping in mappings.items():\n",
    "    code_col = col.replace(' ', '_') + '_code'\n",
    "    df[code_col] = df[col].map(mapping)\n",
    "\n",
    "enc = OrdinalEncoder()\n",
    "df[['Modelo_code', 'Version_code']] = enc.fit_transform(df[['Modelo', 'Versión']])\n",
    "\n",
    "imputer = KNNImputer(n_neighbors=5, weights='uniform')\n",
    "cols_to_impute = ['Modelo_code', 'Año', 'Version_code'] + [c.replace(' ', '_') + '_code' for c in mappings]\n",
    "df[cols_to_impute] = imputer.fit_transform(df[cols_to_impute])\n",
    "\n",
    "for col, mapping in mappings.items():\n",
    "    code_col = col.replace(' ', '_') + '_code'\n",
    "    df[code_col] = np.round(df[code_col]).astype(int)\n",
    "    inv_map = {v: k for k, v in mapping.items()}\n",
    "    df[col] = df[code_col].map(inv_map)\n",
    "\n",
    "df['Puertas'] = df['Puertas'].replace(60252.0, np.nan)\n",
    "imputer = KNNImputer(n_neighbors=5)\n",
    "cols = ['Modelo_code', 'Año','Version_code','Puertas']\n",
    "df[cols] = imputer.fit_transform(df[cols])\n",
    "df['Puertas'] = np.round(df['Puertas']).astype(int)\n",
    "\n",
    "aux_cols = ['Modelo_code', 'Version_code'] + [c.replace(' ', '_') + '_code' for c in mappings]\n",
    "df.drop(aux_cols, axis=1, inplace=True)\n",
    "\n",
    "print(df['Puertas'].value_counts(dropna=False))\n",
    "print(df['Con cámara de retroceso'].value_counts(dropna=False))\n",
    "print(df['Transmisión'].value_counts(dropna=False))\n",
    "\n",
    "df['Kilómetros'] = (\n",
    "    df['Kilómetros']\n",
    "      .str.replace(r'\\s*km$', '', regex=True)  \n",
    "      .str.replace(r'\\.', '', regex=True)      \n",
    "      .astype(float)\n",
    ")\n",
    "print( df['Kilómetros'].value_counts(dropna=False))"
   ]
  },
  {
   "cell_type": "code",
   "execution_count": 14,
   "id": "16016754",
   "metadata": {},
   "outputs": [
    {
     "name": "stdout",
     "output_type": "stream",
     "text": [
      "Index(['Marca', 'Modelo', 'Año', 'Versión', 'Color', 'Tipo de combustible',\n",
      "       'Puertas', 'Transmisión', 'Motor', 'Con cámara de retroceso',\n",
      "       'Kilómetros', 'Título', 'Precio', 'Descripción', 'Tipo de vendedor',\n",
      "       'log_Precio'],\n",
      "      dtype='object')\n",
      "Color\n",
      "Gris                 5402\n",
      "Blanco               4782\n",
      "Negro                2780\n",
      "Plateado             1414\n",
      "Rojo                 1115\n",
      "                     ... \n",
      "MARRON KODIAK           1\n",
      "blue                    1\n",
      "BLACK MEET KETTLE       1\n",
      "GRAY                    1\n",
      "NOIR PERLA NERA         1\n",
      "Name: count, Length: 71, dtype: int64\n"
     ]
    }
   ],
   "source": [
    "print(df.columns)\n",
    "#Marca,Descripción,color\n",
    "#Tipo de combustible,Motor,Tipo de vendedor,Versión,Título,Modelo\n",
    "print( df['Color'].value_counts(dropna=False))\n"
   ]
  }
 ],
 "metadata": {
  "kernelspec": {
   "display_name": "Python 3",
   "language": "python",
   "name": "python3"
  },
  "language_info": {
   "codemirror_mode": {
    "name": "ipython",
    "version": 3
   },
   "file_extension": ".py",
   "mimetype": "text/x-python",
   "name": "python",
   "nbconvert_exporter": "python",
   "pygments_lexer": "ipython3",
   "version": "3.9.6"
  }
 },
 "nbformat": 4,
 "nbformat_minor": 5
}
