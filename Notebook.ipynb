{
 "cells": [
  {
   "cell_type": "code",
   "execution_count": 1,
   "id": "70189546",
   "metadata": {},
   "outputs": [],
   "source": [
    "%load_ext autoreload\n",
    "%autoreload 2"
   ]
  },
  {
   "cell_type": "code",
   "execution_count": 22,
   "id": "47c51e59",
   "metadata": {},
   "outputs": [],
   "source": [
    "import numpy as np\n",
    "import pandas as pd\n",
    "import matplotlib.pyplot as plt\n",
    "from sklearn.preprocessing import OrdinalEncoder\n",
    "from sklearn.impute import KNNImputer"
   ]
  },
  {
   "cell_type": "code",
   "execution_count": 24,
   "id": "854ccf21",
   "metadata": {},
   "outputs": [
    {
     "name": "stdout",
     "output_type": "stream",
     "text": [
      "Puertas\n",
      "5    17734\n",
      "4      399\n",
      "3      105\n",
      "2       10\n",
      "6        3\n",
      "7        2\n",
      "Name: count, dtype: int64\n"
     ]
    }
   ],
   "source": [
    "df = pd.read_csv('Data/pf_suvs_i302_1s2025.csv')\n",
    "df = df.drop(df.columns[0], axis=1)\n",
    "mask = df['Moneda'] == '$'\n",
    "df.loc[mask, 'Precio'] = df.loc[mask, 'Precio'] / 1185\n",
    "df.drop(columns=['Moneda'], inplace=True)\n",
    "df.drop(columns = ['Tipo de carrocería'],inplace=True)\n",
    "idx = df[df['Año'] == 436694.0].index\n",
    "df.drop(idx, inplace=True)\n",
    "\n",
    "df['Puertas'] = df['Puertas'].replace(60252.0, np.nan)\n",
    "enc = OrdinalEncoder()\n",
    "df['Modelo_code'] = enc.fit_transform(df[['Modelo']])\n",
    "imputer = KNNImputer(n_neighbors=5)\n",
    "cols = ['Modelo_code', 'Año', 'Puertas']\n",
    "df[cols] = imputer.fit_transform(df[cols])\n",
    "df['Puertas'] = np.round(df['Puertas']).astype(int)\n",
    "df.drop('Modelo_code', axis=1, inplace=True)\n",
    "print(df['Puertas'].value_counts(dropna=False))"
   ]
  },
  {
   "cell_type": "code",
   "execution_count": null,
   "id": "16016754",
   "metadata": {},
   "outputs": [
    {
     "name": "stdout",
     "output_type": "stream",
     "text": [
      "Index(['Marca', 'Modelo', 'Año', 'Versión', 'Color', 'Tipo de combustible',\n",
      "       'Puertas', 'Transmisión', 'Motor', 'Con cámara de retroceso',\n",
      "       'Kilómetros', 'Título', 'Precio', 'Descripción', 'Tipo de vendedor'],\n",
      "      dtype='object')\n",
      "Empty DataFrame\n",
      "Columns: [Modelo, Puertas, Año]\n",
      "Index: []\n"
     ]
    }
   ],
   "source": [
    "print(df.columns)\n"
   ]
  }
 ],
 "metadata": {
  "kernelspec": {
   "display_name": "Python 3",
   "language": "python",
   "name": "python3"
  },
  "language_info": {
   "codemirror_mode": {
    "name": "ipython",
    "version": 3
   },
   "file_extension": ".py",
   "mimetype": "text/x-python",
   "name": "python",
   "nbconvert_exporter": "python",
   "pygments_lexer": "ipython3",
   "version": "3.9.6"
  }
 },
 "nbformat": 4,
 "nbformat_minor": 5
}
