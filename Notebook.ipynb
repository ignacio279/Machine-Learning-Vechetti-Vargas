{
 "cells": [
  {
   "cell_type": "code",
   "execution_count": 1,
   "id": "70189546",
   "metadata": {},
   "outputs": [],
   "source": [
    "%load_ext autoreload\n",
    "%autoreload 2"
   ]
  },
  {
   "cell_type": "code",
   "execution_count": 36,
   "id": "47c51e59",
   "metadata": {},
   "outputs": [],
   "source": [
    "import numpy as np\n",
    "import pandas as pd\n",
    "import matplotlib.pyplot as plt\n",
    "from sklearn.preprocessing import OrdinalEncoder\n",
    "from sklearn.impute import KNNImputer"
   ]
  },
  {
   "cell_type": "code",
   "execution_count": null,
   "id": "854ccf21",
   "metadata": {},
   "outputs": [
    {
     "name": "stdout",
     "output_type": "stream",
     "text": [
      "Puertas\n",
      "5    17734\n",
      "4      399\n",
      "3      105\n",
      "2       10\n",
      "6        3\n",
      "7        2\n",
      "Name: count, dtype: int64\n",
      "Con cámara de retroceso\n",
      "Sí    13778\n",
      "No     4475\n",
      "Name: count, dtype: int64\n",
      "Transmisión\n",
      "Automática               12292\n",
      "Manual                    5837\n",
      "Automática secuencial      123\n",
      "Semiautomática               1\n",
      "Name: count, dtype: int64\n"
     ]
    }
   ],
   "source": [
    "df = pd.read_csv('Data/pf_suvs_i302_1s2025.csv')\n",
    "df = df.drop(df.columns[0], axis=1)\n",
    "mask = df['Moneda'] == '$'\n",
    "df.loc[mask, 'Precio'] = df.loc[mask, 'Precio'] / 1185\n",
    "df.drop(columns=['Moneda'], inplace=True)\n",
    "\n",
    "df.drop(columns = ['Tipo de carrocería'],inplace=True)\n",
    "idx = df[df['Año'] == 436694.0].index\n",
    "df.drop(idx, inplace=True)\n",
    "\n",
    "mappings = {\n",
    "    'Con cámara de retroceso': {'No': 0, 'Sí': 1},\n",
    "    'Transmisión': {\n",
    "        'Automática': 0,\n",
    "        'Manual': 1,\n",
    "        'Automática secuencial': 2,\n",
    "        'Semiautomática': 3\n",
    "    }\n",
    "}\n",
    "\n",
    "for col, mapping in mappings.items():\n",
    "    code_col = col.replace(' ', '_') + '_code'\n",
    "    df[code_col] = df[col].map(mapping)\n",
    "\n",
    "enc = OrdinalEncoder()\n",
    "df[['Modelo_code', 'Version_code']] = enc.fit_transform(df[['Modelo', 'Versión']])\n",
    "\n",
    "imputer = KNNImputer(n_neighbors=5, weights='uniform')\n",
    "cols_to_impute = ['Modelo_code', 'Año', 'Version_code'] + [c.replace(' ', '_') + '_code' for c in mappings]\n",
    "df[cols_to_impute] = imputer.fit_transform(df[cols_to_impute])\n",
    "\n",
    "for col, mapping in mappings.items():\n",
    "    code_col = col.replace(' ', '_') + '_code'\n",
    "    df[code_col] = np.round(df[code_col]).astype(int)\n",
    "    inv_map = {v: k for k, v in mapping.items()}\n",
    "    df[col] = df[code_col].map(inv_map)\n",
    "\n",
    "df['Puertas'] = df['Puertas'].replace(60252.0, np.nan)\n",
    "imputer = KNNImputer(n_neighbors=5)\n",
    "cols = ['Modelo_code', 'Año','Version_code','Puertas']\n",
    "df[cols] = imputer.fit_transform(df[cols])\n",
    "df['Puertas'] = np.round(df['Puertas']).astype(int)\n",
    "\n",
    "aux_cols = ['Modelo_code', 'Version_code'] + [c.replace(' ', '_') + '_code' for c in mappings]\n",
    "df.drop(aux_cols, axis=1, inplace=True)\n",
    "\n",
    "print(df['Puertas'].value_counts(dropna=False))\n",
    "print(df['Con cámara de retroceso'].value_counts(dropna=False))\n",
    "print(df['Transmisión'].value_counts(dropna=False))\n",
    "\n",
    "df['Kilómetros'] = (\n",
    "    df['Kilómetros']\n",
    "      .str.replace(r'\\s*km$', '', regex=True)  \n",
    "      .str.replace(r'\\.', '', regex=True)      \n",
    "      .astype(float)\n",
    ")\n",
    "print( df['Kilómetros'].value_counts(dropna=False))\n",
    "\n",
    "# hechos transmision,con camara de retroceso,puertas,tipo de carroceria,moneda, precio,kilometros"
   ]
  },
  {
   "cell_type": "code",
   "execution_count": 63,
   "id": "16016754",
   "metadata": {},
   "outputs": [
    {
     "name": "stdout",
     "output_type": "stream",
     "text": [
      "Index(['Marca', 'Modelo', 'Año', 'Versión', 'Color', 'Tipo de combustible',\n",
      "       'Puertas', 'Transmisión', 'Motor', 'Con cámara de retroceso',\n",
      "       'Kilómetros', 'Título', 'Precio', 'Descripción', 'Tipo de vendedor'],\n",
      "      dtype='object')\n",
      "Color\n",
      "Gris                 5468\n",
      "Blanco               4808\n",
      "Negro                2825\n",
      "Plateado             1427\n",
      "Azul                 1121\n",
      "                     ... \n",
      "MARRON KODIAK           1\n",
      "blue                    1\n",
      "BLACK MEET KETTLE       1\n",
      "GRAY                    1\n",
      "NOIR PERLA NERA         1\n",
      "Name: count, Length: 71, dtype: int64\n"
     ]
    }
   ],
   "source": [
    "print(df.columns)\n",
    "#Marca,Descripción,color\n",
    "#Tipo de combustible,Motor,Tipo de vendedor,Versión,Título,Modelo\n",
    "print( df['Color'].value_counts(dropna=False))\n",
    "\n",
    "\n",
    "\n"
   ]
  },
  {
   "cell_type": "code",
   "execution_count": null,
   "id": "35c83cd5",
   "metadata": {},
   "outputs": [
    {
     "name": "stdout",
     "output_type": "stream",
     "text": [
      "Kilómetros\n",
      "0.0          4561\n",
      "10000.0       220\n",
      "1200000.0     194\n",
      "900000.0      194\n",
      "1000000.0     176\n",
      "             ... \n",
      "962020.0        1\n",
      "808000.0        1\n",
      "1173760.0       1\n",
      "918000.0        1\n",
      "639000.0        1\n",
      "Name: count, Length: 2146, dtype: int64\n"
     ]
    }
   ],
   "source": []
  }
 ],
 "metadata": {
  "kernelspec": {
   "display_name": "Python 3",
   "language": "python",
   "name": "python3"
  },
  "language_info": {
   "codemirror_mode": {
    "name": "ipython",
    "version": 3
   },
   "file_extension": ".py",
   "mimetype": "text/x-python",
   "name": "python",
   "nbconvert_exporter": "python",
   "pygments_lexer": "ipython3",
   "version": "3.9.6"
  }
 },
 "nbformat": 4,
 "nbformat_minor": 5
}
