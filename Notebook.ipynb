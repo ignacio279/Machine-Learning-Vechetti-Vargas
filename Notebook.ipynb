{
 "cells": [
  {
   "cell_type": "code",
   "execution_count": null,
   "id": "70189546",
   "metadata": {
    "vscode": {
     "languageId": "plaintext"
    }
   },
   "outputs": [],
   "source": [
    "%load_ext autoreload\n",
    "%autoreload 2"
   ]
  },
  {
   "cell_type": "code",
   "execution_count": null,
   "id": "854ccf21",
   "metadata": {
    "vscode": {
     "languageId": "plaintext"
    }
   },
   "outputs": [],
   "source": [
    "import numpy as np\n",
    "import pandas as pd\n",
    "import matplotlib.pyplot as plt\n",
    "df = pd.read_csv('Data/pf_suvs_i302_1s2025.csv')\n",
    "df = df.drop(df.columns[0], axis=1)\n",
    "mask = df['Moneda'] == '$'\n",
    "df.loc[mask, 'Precio'] = df.loc[mask, 'Precio'] / 1185\n",
    "df.drop(columns=['Moneda'], inplace=True)\n",
    "df.drop(columns = ['Tipo de carrocería'],inplace=True)"
   ]
  },
  {
   "cell_type": "code",
   "execution_count": null,
   "id": "16016754",
   "metadata": {
    "vscode": {
     "languageId": "plaintext"
    }
   },
   "outputs": [],
   "source": [
    "print(df.columns)\n",
    "#Año,Con cámara de retroceso,Puertas,Marca,Transmisión,Kilómetros,Descripción\n",
    "print( df[''].value_counts(dropna=False) )\n"
   ]
  }
 ],
 "metadata": {
  "language_info": {
   "name": "python"
  }
 },
 "nbformat": 4,
 "nbformat_minor": 5
}
