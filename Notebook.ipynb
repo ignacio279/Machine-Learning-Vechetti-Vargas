{
 "cells": [
  {
   "cell_type": "code",
   "execution_count": 1,
   "id": "70189546",
   "metadata": {},
   "outputs": [],
   "source": [
    "%load_ext autoreload\n",
    "%autoreload 2"
   ]
  },
  {
   "cell_type": "code",
   "execution_count": 22,
   "id": "47c51e59",
   "metadata": {},
   "outputs": [],
   "source": [
    "import numpy as np\n",
    "import pandas as pd\n",
    "import matplotlib.pyplot as plt\n",
    "from sklearn.preprocessing import OrdinalEncoder\n",
    "from sklearn.impute import KNNImputer"
   ]
  },
  {
   "cell_type": "code",
   "execution_count": null,
   "id": "854ccf21",
   "metadata": {},
   "outputs": [],
   "source": [
    "df = pd.read_csv('Data/pf_suvs_i302_1s2025.csv')\n",
    "df = df.drop(df.columns[0], axis=1)\n",
    "mask = df['Moneda'] == '$'\n",
    "df.loc[mask, 'Precio'] = df.loc[mask, 'Precio'] / 1185\n",
    "df.drop(columns=['Moneda'], inplace=True)\n",
    "df.drop(columns = ['Tipo de carrocería'],inplace=True)\n",
    "idx = df[df['Año'] == 436694.0].index\n",
    "df.drop(idx, inplace=True)\n",
    "\n",
    "df['Puertas'] = df['Puertas'].replace(60252.0, np.nan)\n",
    "enc = OrdinalEncoder()\n",
    "df['Modelo_code'] = enc.fit_transform(df[['Modelo']])\n",
    "imputer = KNNImputer(n_neighbors=5)\n",
    "cols = ['Modelo_code', 'Año', 'Puertas']\n",
    "df[cols] = imputer.fit_transform(df[cols])\n",
    "df['Puertas'] = np.round(df['Puertas']).astype(int)\n",
    "df.drop('Modelo_code', axis=1, inplace=True)\n",
    "print(df['Puertas'].value_counts(dropna=False))"
   ]
  },
  {
   "cell_type": "code",
   "execution_count": null,
   "id": "16016754",
   "metadata": {},
   "outputs": [
    {
     "name": "stdout",
     "output_type": "stream",
     "text": [
      "Index(['Marca', 'Modelo', 'Año', 'Versión', 'Color', 'Tipo de combustible',\n",
      "       'Puertas', 'Transmisión', 'Motor', 'Con cámara de retroceso',\n",
      "       'Kilómetros', 'Título', 'Precio', 'Descripción', 'Tipo de vendedor'],\n",
      "      dtype='object')\n",
      "      Modelo  Puertas     Año\n",
      "889     RAV4      5.0  2009.0\n",
      "7884    RAV4  60252.0  2009.0\n",
      "3395    RAV4      5.0  2019.0\n",
      "11110   RAV4      4.0  2019.0\n",
      "68        X1      5.0  2019.0\n",
      "1602      X1  60252.0  2019.0\n",
      "445     RAV4      5.0  2022.0\n",
      "176     Taos      5.0  2022.0\n",
      "7633    Taos  60252.0  2022.0\n",
      "1900      X1      5.0  2022.0\n",
      "Puertas\n",
      "5    17734\n",
      "4      399\n",
      "3      105\n",
      "2       10\n",
      "6        3\n",
      "7        2\n",
      "Name: count, dtype: int64\n"
     ]
    }
   ],
   "source": [
    "print(df.columns)\n",
    "anomalous_models = df.loc[df['Puertas'] == 60252.0, 'Modelo'].unique()\n",
    "anomalous_years  = df.loc[df['Puertas'] == 60252.0, 'Año'].unique()\n",
    "mask = (\n",
    "    df['Año'].isin(anomalous_years) &\n",
    "    df['Modelo'].isin(anomalous_models)\n",
    ")\n",
    "\n",
    "df_filtered = df.loc[mask, ['Modelo','Puertas','Año']]\n",
    "\n",
    "result = (\n",
    "    df_filtered\n",
    "      .drop_duplicates()\n",
    "      .sort_values(['Año','Modelo'])\n",
    ")\n",
    "\n",
    "print(result)"
   ]
  },
  {
   "cell_type": "code",
   "execution_count": null,
   "id": "c9ed4c39",
   "metadata": {},
   "outputs": [
    {
     "name": "stdout",
     "output_type": "stream",
     "text": [
      "Modelo\n",
      "Ecosport       1569\n",
      "Tracker        1511\n",
      "2008           1144\n",
      "Duster         1048\n",
      "Compass         916\n",
      "               ... \n",
      "Nativa            2\n",
      "Defender          2\n",
      "208               2\n",
      "C4 Aircross       2\n",
      "F-PACE            2\n",
      "Name: count, Length: 137, dtype: int64\n"
     ]
    }
   ],
   "source": []
  }
 ],
 "metadata": {
  "kernelspec": {
   "display_name": "Python 3",
   "language": "python",
   "name": "python3"
  },
  "language_info": {
   "codemirror_mode": {
    "name": "ipython",
    "version": 3
   },
   "file_extension": ".py",
   "mimetype": "text/x-python",
   "name": "python",
   "nbconvert_exporter": "python",
   "pygments_lexer": "ipython3",
   "version": "3.9.6"
  }
 },
 "nbformat": 4,
 "nbformat_minor": 5
}
